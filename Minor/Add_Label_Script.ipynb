{
 "cells": [
  {
   "cell_type": "code",
   "execution_count": 102,
   "metadata": {},
   "outputs": [],
   "source": [
    "import numpy as np\n",
    "import pandas as pd\n",
    "import nltk\n",
    "import string\n",
    "from nltk.corpus import stopwords"
   ]
  },
  {
   "cell_type": "code",
   "execution_count": 103,
   "metadata": {},
   "outputs": [],
   "source": [
    "train = pd.read_csv('myfile3.txt',delimiter='$')"
   ]
  },
  {
   "cell_type": "code",
   "execution_count": 104,
   "metadata": {},
   "outputs": [],
   "source": [
    "#train.info()"
   ]
  },
  {
   "cell_type": "code",
   "execution_count": 105,
   "metadata": {},
   "outputs": [],
   "source": [
    "train['Length'] = train['Body'].apply(len)"
   ]
  },
  {
   "cell_type": "code",
   "execution_count": 106,
   "metadata": {},
   "outputs": [
    {
     "data": {
      "text/html": [
       "<div>\n",
       "<style scoped>\n",
       "    .dataframe tbody tr th:only-of-type {\n",
       "        vertical-align: middle;\n",
       "    }\n",
       "\n",
       "    .dataframe tbody tr th {\n",
       "        vertical-align: top;\n",
       "    }\n",
       "\n",
       "    .dataframe thead th {\n",
       "        text-align: right;\n",
       "    }\n",
       "</style>\n",
       "<table border=\"1\" class=\"dataframe\">\n",
       "  <thead>\n",
       "    <tr style=\"text-align: right;\">\n",
       "      <th></th>\n",
       "      <th>Body</th>\n",
       "      <th>Thread_Id</th>\n",
       "      <th>Date</th>\n",
       "      <th>Date_Sent</th>\n",
       "      <th>Address</th>\n",
       "      <th>Unnamed: 5</th>\n",
       "      <th>Length</th>\n",
       "    </tr>\n",
       "  </thead>\n",
       "  <tbody>\n",
       "    <tr>\n",
       "      <th>0</th>\n",
       "      <td>[ body:HDFCUPI 48PWqRHx1fPnBmoTQeZrNXBAj2xwl36...</td>\n",
       "      <td>thread_id:38</td>\n",
       "      <td>date:1511195729532</td>\n",
       "      <td>date_sent:0</td>\n",
       "      <td>address:+919289210101</td>\n",
       "      <td>NaN</td>\n",
       "      <td>61</td>\n",
       "    </tr>\n",
       "    <tr>\n",
       "      <th>1</th>\n",
       "      <td>body:Dear Customer, You have 2 missed calls...</td>\n",
       "      <td>thread_id:152</td>\n",
       "      <td>date:1511195566351</td>\n",
       "      <td>date_sent:1511195553000</td>\n",
       "      <td>address:+917986452922</td>\n",
       "      <td>NaN</td>\n",
       "      <td>141</td>\n",
       "    </tr>\n",
       "    <tr>\n",
       "      <th>2</th>\n",
       "      <td>body:4466218083398</td>\n",
       "      <td>thread_id:22</td>\n",
       "      <td>date:1511185904196</td>\n",
       "      <td>date_sent:0</td>\n",
       "      <td>address:09634224747</td>\n",
       "      <td>NaN</td>\n",
       "      <td>21</td>\n",
       "    </tr>\n",
       "    <tr>\n",
       "      <th>3</th>\n",
       "      <td>body:Haan</td>\n",
       "      <td>thread_id:68</td>\n",
       "      <td>date:1511172956752</td>\n",
       "      <td>date_sent:1511172960559</td>\n",
       "      <td>address:+918279925985</td>\n",
       "      <td>NaN</td>\n",
       "      <td>12</td>\n",
       "    </tr>\n",
       "    <tr>\n",
       "      <th>4</th>\n",
       "      <td>body:Attendance ho gyi?</td>\n",
       "      <td>thread_id:68</td>\n",
       "      <td>date:1511172156198</td>\n",
       "      <td>date_sent:1511172154000</td>\n",
       "      <td>address:+918279925985</td>\n",
       "      <td>NaN</td>\n",
       "      <td>26</td>\n",
       "    </tr>\n",
       "  </tbody>\n",
       "</table>\n",
       "</div>"
      ],
      "text/plain": [
       "                                                Body       Thread_Id  \\\n",
       "0  [ body:HDFCUPI 48PWqRHx1fPnBmoTQeZrNXBAj2xwl36...    thread_id:38   \n",
       "1     body:Dear Customer, You have 2 missed calls...   thread_id:152   \n",
       "2                                 body:4466218083398    thread_id:22   \n",
       "3                                          body:Haan    thread_id:68   \n",
       "4                            body:Attendance ho gyi?    thread_id:68   \n",
       "\n",
       "                  Date                 Date_Sent                 Address  \\\n",
       "0   date:1511195729532               date_sent:0   address:+919289210101   \n",
       "1   date:1511195566351   date_sent:1511195553000   address:+917986452922   \n",
       "2   date:1511185904196               date_sent:0     address:09634224747   \n",
       "3   date:1511172956752   date_sent:1511172960559   address:+918279925985   \n",
       "4   date:1511172156198   date_sent:1511172154000   address:+918279925985   \n",
       "\n",
       "  Unnamed: 5  Length  \n",
       "0        NaN      61  \n",
       "1        NaN     141  \n",
       "2        NaN      21  \n",
       "3        NaN      12  \n",
       "4        NaN      26  "
      ]
     },
     "execution_count": 106,
     "metadata": {},
     "output_type": "execute_result"
    }
   ],
   "source": [
    "train.head()"
   ]
  },
  {
   "cell_type": "code",
   "execution_count": 107,
   "metadata": {},
   "outputs": [],
   "source": [
    "train.rename(columns={'Unnamed: 5':'waste'}, inplace=True)"
   ]
  },
  {
   "cell_type": "code",
   "execution_count": 108,
   "metadata": {},
   "outputs": [],
   "source": [
    "train.drop('waste',axis=1,inplace=True)"
   ]
  },
  {
   "cell_type": "code",
   "execution_count": 109,
   "metadata": {},
   "outputs": [],
   "source": [
    "#train.head()"
   ]
  },
  {
   "cell_type": "code",
   "execution_count": 110,
   "metadata": {},
   "outputs": [],
   "source": [
    "def process_text(mess):\n",
    "    # Check characters to see if they are in punctuation\n",
    "    nopunc = [char for char in mess if char not in string.punctuation]\n",
    "\n",
    "    # Join the characters again to form the string.\n",
    "    nopunc = ''.join(nopunc)\n",
    "    #print(nopunc)\n",
    "    # Now just remove any stopwords\n",
    "    return [word.lower() for word in nopunc.split() if word.lower() not in stopwords.words('english')]"
   ]
  },
  {
   "cell_type": "code",
   "execution_count": 111,
   "metadata": {},
   "outputs": [],
   "source": [
    "def correct_text(cols):\n",
    "    return process_text(cols)"
   ]
  },
  {
   "cell_type": "code",
   "execution_count": 112,
   "metadata": {},
   "outputs": [],
   "source": [
    "train['Body'] = train['Body'].apply(correct_text)"
   ]
  },
  {
   "cell_type": "code",
   "execution_count": 113,
   "metadata": {},
   "outputs": [],
   "source": [
    "#train.head()"
   ]
  },
  {
   "cell_type": "code",
   "execution_count": 114,
   "metadata": {},
   "outputs": [],
   "source": [
    "fashion = ['fashion','myntra','fbb','fashion','amazon','flipkart','clothes','gifts','festive','season','sale','jewellery','shopping','shop','voucher','offer','center']\n",
    "food = ['food','dominos','pizza','hut','cheese','medium','pizzahut','food','veg','groceries','burger','sandwhich','foodpanda','grofers','bazaar','milkshake','baker','cake','cookies']\n",
    "finance = ['finance','recharge','paytm','mobile','balance','bank','inr','debit','card','credit','acct','icici','hdfc','sbi','pnb','fixed','deposit','property','estate','sell','central','market','invest','investment','buy','lacs','emi','loan','investor']\n",
    "health = ['health','weight','blood','test','medicines','medicine','disease','loss','water','purifier','homeopathy','homeopathic','ayurvedic']\n",
    "#education = ['education','exam','education','college','quiz','tutorial','course','school','college','result']\n",
    "education = ['cabs','pool','uber','ola','ride','discount','uberGO','share','city','cab','PNR','book','pnr','booking','order']\n",
    "telecom = ['telecom','customer','airtel','jio','vodafone','idea','call','unlimited','balance','recharge']\n",
    "\n",
    "\n",
    "# Aur categories daalni hai.... please daal do achi achi categories isme"
   ]
  },
  {
   "cell_type": "code",
   "execution_count": 115,
   "metadata": {},
   "outputs": [],
   "source": [
    "#food"
   ]
  },
  {
   "cell_type": "code",
   "execution_count": 116,
   "metadata": {},
   "outputs": [],
   "source": [
    "def label_it(cols):\n",
    "    \n",
    "    fashion_count = 0\n",
    "    food_count = 0\n",
    "    finance_count = 0\n",
    "    health_count = 0\n",
    "    education_count = 0\n",
    "    telecom_count = 0\n",
    "\n",
    "    \n",
    "    for word in cols:\n",
    "        #print(word)\n",
    "        if word in fashion:\n",
    "            fashion_count += 1\n",
    "        \n",
    "        if word in food:\n",
    "            food_count += 1\n",
    "        \n",
    "        if word in finance:\n",
    "            finance_count += 1  \n",
    "            \n",
    "        if word in health:\n",
    "            health_count += 1   \n",
    "            \n",
    "        if word in education:\n",
    "            education_count += 1\n",
    "            \n",
    "        if word in telecom:\n",
    "            telecom_count += 1\n",
    "            #print('Hello',finance_count)\n",
    "            \n",
    "    total = int(fashion_count + food_count + finance_count + health_count + education_count + telecom_count)\n",
    "    \n",
    "    if total==0:\n",
    "        total = 1\n",
    "    \n",
    "    fashion_avg = float(fashion_count/total)\n",
    "    food_avg = float(food_count/total)\n",
    "    finance_avg = float(finance_count/total)\n",
    "    health_avg = float(health_count/total)    \n",
    "    education_avg = float(education_count/total)    \n",
    "    telecom_avg = float(telecom_count/total)\n",
    "    \n",
    "    \n",
    "    maxx = max(fashion_avg,food_avg,finance_avg,health_avg,education_avg,telecom_avg)\n",
    "    if maxx==0:\n",
    "        return 'other'\n",
    "    elif maxx==fashion_avg:\n",
    "        return 'fashion'    \n",
    "    elif maxx==food_avg:\n",
    "        return 'food'\n",
    "    elif maxx==finance_avg:\n",
    "        return 'finance'\n",
    "    elif maxx==health_avg:\n",
    "        return 'health'\n",
    "    elif maxx==education_avg:\n",
    "        return 'education'\n",
    "    elif maxx==telecom_avg:\n",
    "        return 'telecom'"
   ]
  },
  {
   "cell_type": "code",
   "execution_count": 117,
   "metadata": {},
   "outputs": [],
   "source": [
    "train['Label'] = train['Body'].apply(label_it)"
   ]
  },
  {
   "cell_type": "code",
   "execution_count": 118,
   "metadata": {},
   "outputs": [],
   "source": [
    "#train.head()"
   ]
  },
  {
   "cell_type": "code",
   "execution_count": 119,
   "metadata": {},
   "outputs": [],
   "source": [
    "#train[train['Label']=='education']"
   ]
  },
  {
   "cell_type": "code",
   "execution_count": 120,
   "metadata": {},
   "outputs": [],
   "source": [
    "#train.drop(train[train['Label']=='other'].index,inplace=True)"
   ]
  },
  {
   "cell_type": "code",
   "execution_count": 121,
   "metadata": {},
   "outputs": [],
   "source": [
    "#train.drop(train[train['Label']=='telecom'].index,inplace=True)"
   ]
  },
  {
   "cell_type": "code",
   "execution_count": 122,
   "metadata": {},
   "outputs": [],
   "source": [
    "#train[train['Label']=='other']"
   ]
  },
  {
   "cell_type": "code",
   "execution_count": 123,
   "metadata": {},
   "outputs": [],
   "source": [
    "#train.groupby('Label')['Label'].describe()"
   ]
  },
  {
   "cell_type": "code",
   "execution_count": 124,
   "metadata": {},
   "outputs": [],
   "source": [
    "finan = train[train['Label']=='finance']\n",
    "fash = train[train['Label']=='fashion']\n",
    "foo = train[train['Label']=='food']\n",
    "edu = train[train['Label']=='education']\n",
    "heal = train[train['Label']=='health']\n",
    "oth = train[train['Label']=='other']\n",
    "telec = train[train['Label']=='telecom']"
   ]
  },
  {
   "cell_type": "code",
   "execution_count": 125,
   "metadata": {},
   "outputs": [
    {
     "name": "stdout",
     "output_type": "stream",
     "text": [
      "<class 'pandas.core.frame.DataFrame'>\n",
      "Int64Index: 1224 entries, 75 to 7727\n",
      "Data columns (total 7 columns):\n",
      "Body         1224 non-null object\n",
      "Thread_Id    1224 non-null object\n",
      "Date         1224 non-null object\n",
      "Date_Sent    1224 non-null object\n",
      "Address      1224 non-null object\n",
      "Length       1224 non-null int64\n",
      "Label        1224 non-null object\n",
      "dtypes: int64(1), object(6)\n",
      "memory usage: 76.5+ KB\n",
      "<class 'pandas.core.frame.DataFrame'>\n",
      "Int64Index: 146 entries, 77 to 7714\n",
      "Data columns (total 7 columns):\n",
      "Body         146 non-null object\n",
      "Thread_Id    146 non-null object\n",
      "Date         146 non-null object\n",
      "Date_Sent    146 non-null object\n",
      "Address      146 non-null object\n",
      "Length       146 non-null int64\n",
      "Label        146 non-null object\n",
      "dtypes: int64(1), object(6)\n",
      "memory usage: 9.1+ KB\n",
      "<class 'pandas.core.frame.DataFrame'>\n",
      "Int64Index: 822 entries, 80 to 7711\n",
      "Data columns (total 7 columns):\n",
      "Body         822 non-null object\n",
      "Thread_Id    822 non-null object\n",
      "Date         822 non-null object\n",
      "Date_Sent    822 non-null object\n",
      "Address      822 non-null object\n",
      "Length       822 non-null int64\n",
      "Label        822 non-null object\n",
      "dtypes: int64(1), object(6)\n",
      "memory usage: 51.4+ KB\n",
      "<class 'pandas.core.frame.DataFrame'>\n",
      "Int64Index: 368 entries, 74 to 7721\n",
      "Data columns (total 7 columns):\n",
      "Body         368 non-null object\n",
      "Thread_Id    368 non-null object\n",
      "Date         368 non-null object\n",
      "Date_Sent    368 non-null object\n",
      "Address      368 non-null object\n",
      "Length       368 non-null int64\n",
      "Label        368 non-null object\n",
      "dtypes: int64(1), object(6)\n",
      "memory usage: 23.0+ KB\n",
      "<class 'pandas.core.frame.DataFrame'>\n",
      "Int64Index: 297 entries, 96 to 7708\n",
      "Data columns (total 7 columns):\n",
      "Body         297 non-null object\n",
      "Thread_Id    297 non-null object\n",
      "Date         297 non-null object\n",
      "Date_Sent    297 non-null object\n",
      "Address      297 non-null object\n",
      "Length       297 non-null int64\n",
      "Label        297 non-null object\n",
      "dtypes: int64(1), object(6)\n",
      "memory usage: 18.6+ KB\n",
      "<class 'pandas.core.frame.DataFrame'>\n",
      "Int64Index: 3652 entries, 0 to 7726\n",
      "Data columns (total 7 columns):\n",
      "Body         3652 non-null object\n",
      "Thread_Id    3652 non-null object\n",
      "Date         3652 non-null object\n",
      "Date_Sent    3652 non-null object\n",
      "Address      3652 non-null object\n",
      "Length       3652 non-null int64\n",
      "Label        3652 non-null object\n",
      "dtypes: int64(1), object(6)\n",
      "memory usage: 228.2+ KB\n",
      "<class 'pandas.core.frame.DataFrame'>\n",
      "Int64Index: 1219 entries, 1 to 7712\n",
      "Data columns (total 7 columns):\n",
      "Body         1219 non-null object\n",
      "Thread_Id    1219 non-null object\n",
      "Date         1219 non-null object\n",
      "Date_Sent    1219 non-null object\n",
      "Address      1219 non-null object\n",
      "Length       1219 non-null int64\n",
      "Label        1219 non-null object\n",
      "dtypes: int64(1), object(6)\n",
      "memory usage: 76.2+ KB\n"
     ]
    }
   ],
   "source": [
    "finan.info()\n",
    "foo.info()\n",
    "fash.info()\n",
    "edu.info()\n",
    "heal.info()\n",
    "oth.info()\n",
    "telec.info()"
   ]
  },
  {
   "cell_type": "code",
   "execution_count": 126,
   "metadata": {},
   "outputs": [],
   "source": [
    "#finan.head()"
   ]
  },
  {
   "cell_type": "code",
   "execution_count": 127,
   "metadata": {},
   "outputs": [
    {
     "ename": "IndexError",
     "evalue": "index 822 is out of bounds for axis 0 with size 822",
     "output_type": "error",
     "traceback": [
      "\u001b[1;31m---------------------------------------------------------------------------\u001b[0m",
      "\u001b[1;31mIndexError\u001b[0m                                Traceback (most recent call last)",
      "\u001b[1;32m<ipython-input-127-d42eace51666>\u001b[0m in \u001b[0;36m<module>\u001b[1;34m()\u001b[0m\n\u001b[0;32m      2\u001b[0m \u001b[0mfinan\u001b[0m \u001b[1;33m=\u001b[0m \u001b[0mfinan\u001b[0m\u001b[1;33m.\u001b[0m\u001b[0mdrop\u001b[0m\u001b[1;33m(\u001b[0m\u001b[0mfinan\u001b[0m\u001b[1;33m.\u001b[0m\u001b[0mindex\u001b[0m\u001b[1;33m[\u001b[0m\u001b[1;33m[\u001b[0m\u001b[0mind\u001b[0m \u001b[1;32mfor\u001b[0m \u001b[0mind\u001b[0m \u001b[1;32min\u001b[0m \u001b[0mrange\u001b[0m\u001b[1;33m(\u001b[0m\u001b[0mstart\u001b[0m\u001b[1;33m,\u001b[0m\u001b[1;36m1197\u001b[0m\u001b[1;33m)\u001b[0m\u001b[1;33m]\u001b[0m\u001b[1;33m]\u001b[0m\u001b[1;33m,\u001b[0m\u001b[0maxis\u001b[0m\u001b[1;33m=\u001b[0m\u001b[1;36m0\u001b[0m\u001b[1;33m)\u001b[0m\u001b[1;33m\u001b[0m\u001b[0m\n\u001b[0;32m      3\u001b[0m \u001b[1;31m#foo = foo.drop(foo.index[[ind for ind in range(start,149)]],axis=0)\u001b[0m\u001b[1;33m\u001b[0m\u001b[1;33m\u001b[0m\u001b[0m\n\u001b[1;32m----> 4\u001b[1;33m \u001b[0mfash\u001b[0m \u001b[1;33m=\u001b[0m \u001b[0mfash\u001b[0m\u001b[1;33m.\u001b[0m\u001b[0mdrop\u001b[0m\u001b[1;33m(\u001b[0m\u001b[0mfash\u001b[0m\u001b[1;33m.\u001b[0m\u001b[0mindex\u001b[0m\u001b[1;33m[\u001b[0m\u001b[1;33m[\u001b[0m\u001b[0mind\u001b[0m \u001b[1;32mfor\u001b[0m \u001b[0mind\u001b[0m \u001b[1;32min\u001b[0m \u001b[0mrange\u001b[0m\u001b[1;33m(\u001b[0m\u001b[0mstart\u001b[0m\u001b[1;33m,\u001b[0m\u001b[1;36m976\u001b[0m\u001b[1;33m)\u001b[0m\u001b[1;33m]\u001b[0m\u001b[1;33m]\u001b[0m\u001b[1;33m,\u001b[0m\u001b[0maxis\u001b[0m\u001b[1;33m=\u001b[0m\u001b[1;36m0\u001b[0m\u001b[1;33m)\u001b[0m\u001b[1;33m\u001b[0m\u001b[0m\n\u001b[0m\u001b[0;32m      5\u001b[0m \u001b[0medu\u001b[0m \u001b[1;33m=\u001b[0m \u001b[0medu\u001b[0m\u001b[1;33m.\u001b[0m\u001b[0mdrop\u001b[0m\u001b[1;33m(\u001b[0m\u001b[0medu\u001b[0m\u001b[1;33m.\u001b[0m\u001b[0mindex\u001b[0m\u001b[1;33m[\u001b[0m\u001b[1;33m[\u001b[0m\u001b[0mind\u001b[0m \u001b[1;32mfor\u001b[0m \u001b[0mind\u001b[0m \u001b[1;32min\u001b[0m \u001b[0mrange\u001b[0m\u001b[1;33m(\u001b[0m\u001b[0mstart\u001b[0m\u001b[1;33m,\u001b[0m\u001b[1;36m350\u001b[0m\u001b[1;33m)\u001b[0m\u001b[1;33m]\u001b[0m\u001b[1;33m]\u001b[0m\u001b[1;33m,\u001b[0m\u001b[0maxis\u001b[0m\u001b[1;33m=\u001b[0m\u001b[1;36m0\u001b[0m\u001b[1;33m)\u001b[0m\u001b[1;33m\u001b[0m\u001b[0m\n\u001b[0;32m      6\u001b[0m \u001b[0mheal\u001b[0m \u001b[1;33m=\u001b[0m \u001b[0mheal\u001b[0m\u001b[1;33m.\u001b[0m\u001b[0mdrop\u001b[0m\u001b[1;33m(\u001b[0m\u001b[0mheal\u001b[0m\u001b[1;33m.\u001b[0m\u001b[0mindex\u001b[0m\u001b[1;33m[\u001b[0m\u001b[1;33m[\u001b[0m\u001b[0mind\u001b[0m \u001b[1;32mfor\u001b[0m \u001b[0mind\u001b[0m \u001b[1;32min\u001b[0m \u001b[0mrange\u001b[0m\u001b[1;33m(\u001b[0m\u001b[0mstart\u001b[0m\u001b[1;33m,\u001b[0m\u001b[1;36m266\u001b[0m\u001b[1;33m)\u001b[0m\u001b[1;33m]\u001b[0m\u001b[1;33m]\u001b[0m\u001b[1;33m,\u001b[0m\u001b[0maxis\u001b[0m\u001b[1;33m=\u001b[0m\u001b[1;36m0\u001b[0m\u001b[1;33m)\u001b[0m\u001b[1;33m\u001b[0m\u001b[0m\n",
      "\u001b[1;32m~\\Anaconda3\\lib\\site-packages\\pandas\\core\\indexes\\base.py\u001b[0m in \u001b[0;36m__getitem__\u001b[1;34m(self, key)\u001b[0m\n\u001b[0;32m   1752\u001b[0m \u001b[1;33m\u001b[0m\u001b[0m\n\u001b[0;32m   1753\u001b[0m         \u001b[0mkey\u001b[0m \u001b[1;33m=\u001b[0m \u001b[0m_values_from_object\u001b[0m\u001b[1;33m(\u001b[0m\u001b[0mkey\u001b[0m\u001b[1;33m)\u001b[0m\u001b[1;33m\u001b[0m\u001b[0m\n\u001b[1;32m-> 1754\u001b[1;33m         \u001b[0mresult\u001b[0m \u001b[1;33m=\u001b[0m \u001b[0mgetitem\u001b[0m\u001b[1;33m(\u001b[0m\u001b[0mkey\u001b[0m\u001b[1;33m)\u001b[0m\u001b[1;33m\u001b[0m\u001b[0m\n\u001b[0m\u001b[0;32m   1755\u001b[0m         \u001b[1;32mif\u001b[0m \u001b[1;32mnot\u001b[0m \u001b[0mis_scalar\u001b[0m\u001b[1;33m(\u001b[0m\u001b[0mresult\u001b[0m\u001b[1;33m)\u001b[0m\u001b[1;33m:\u001b[0m\u001b[1;33m\u001b[0m\u001b[0m\n\u001b[0;32m   1756\u001b[0m             \u001b[1;32mreturn\u001b[0m \u001b[0mpromote\u001b[0m\u001b[1;33m(\u001b[0m\u001b[0mresult\u001b[0m\u001b[1;33m)\u001b[0m\u001b[1;33m\u001b[0m\u001b[0m\n",
      "\u001b[1;31mIndexError\u001b[0m: index 822 is out of bounds for axis 0 with size 822"
     ]
    }
   ],
   "source": [
    "start = 145\n",
    "finan = finan.drop(finan.index[[ind for ind in range(start,1197)]],axis=0)\n",
    "#foo = foo.drop(foo.index[[ind for ind in range(start,149)]],axis=0)\n",
    "fash = fash.drop(fash.index[[ind for ind in range(start,976)]],axis=0)\n",
    "edu = edu.drop(edu.index[[ind for ind in range(start,350)]],axis=0)\n",
    "heal = heal.drop(heal.index[[ind for ind in range(start,266)]],axis=0)\n",
    "oth = oth.drop(oth.index[[ind for ind in range(start,3600)]],axis=0)\n",
    "telec = telec.drop(telec.index[[ind for ind in range(start,1194)]],axis=0)"
   ]
  },
  {
   "cell_type": "code",
   "execution_count": 128,
   "metadata": {},
   "outputs": [],
   "source": [
    "#finan"
   ]
  },
  {
   "cell_type": "code",
   "execution_count": 129,
   "metadata": {},
   "outputs": [],
   "source": [
    "#finan.info()"
   ]
  },
  {
   "cell_type": "code",
   "execution_count": 130,
   "metadata": {},
   "outputs": [],
   "source": [
    "train = [finan,foo,fash,edu,oth,heal,telec]"
   ]
  },
  {
   "cell_type": "code",
   "execution_count": 131,
   "metadata": {},
   "outputs": [],
   "source": [
    "train = pd.concat(train)"
   ]
  },
  {
   "cell_type": "code",
   "execution_count": 132,
   "metadata": {},
   "outputs": [],
   "source": [
    "#train.info()"
   ]
  },
  {
   "cell_type": "code",
   "execution_count": 133,
   "metadata": {},
   "outputs": [],
   "source": [
    "#train['Label'].describe()"
   ]
  },
  {
   "cell_type": "code",
   "execution_count": 134,
   "metadata": {},
   "outputs": [],
   "source": [
    "#train.groupby('Label')['Label'].describe()"
   ]
  },
  {
   "cell_type": "code",
   "execution_count": 135,
   "metadata": {},
   "outputs": [],
   "source": [
    "#train"
   ]
  },
  {
   "cell_type": "code",
   "execution_count": 136,
   "metadata": {},
   "outputs": [
    {
     "data": {
      "text/html": [
       "<div>\n",
       "<style scoped>\n",
       "    .dataframe tbody tr th:only-of-type {\n",
       "        vertical-align: middle;\n",
       "    }\n",
       "\n",
       "    .dataframe tbody tr th {\n",
       "        vertical-align: top;\n",
       "    }\n",
       "\n",
       "    .dataframe thead th {\n",
       "        text-align: right;\n",
       "    }\n",
       "</style>\n",
       "<table border=\"1\" class=\"dataframe\">\n",
       "  <thead>\n",
       "    <tr style=\"text-align: right;\">\n",
       "      <th></th>\n",
       "      <th>Body</th>\n",
       "      <th>Thread_Id</th>\n",
       "      <th>Date</th>\n",
       "      <th>Date_Sent</th>\n",
       "      <th>Address</th>\n",
       "      <th>Length</th>\n",
       "      <th>Label</th>\n",
       "    </tr>\n",
       "  </thead>\n",
       "  <tbody>\n",
       "    <tr>\n",
       "      <th>75</th>\n",
       "      <td>[body, earn, rs25000, annually, also, get, lum...</td>\n",
       "      <td>thread_id: 1790</td>\n",
       "      <td>date: 1509773729218</td>\n",
       "      <td>date_sent: 1509773718000</td>\n",
       "      <td>address: DZEISSMS</td>\n",
       "      <td>164</td>\n",
       "      <td>finance</td>\n",
       "    </tr>\n",
       "    <tr>\n",
       "      <th>79</th>\n",
       "      <td>[body, dear, customer, invest, axis, multicap,...</td>\n",
       "      <td>thread_id: 2145</td>\n",
       "      <td>date: 1509703786413</td>\n",
       "      <td>date_sent: 1509703785000</td>\n",
       "      <td>address: AD200001</td>\n",
       "      <td>164</td>\n",
       "      <td>finance</td>\n",
       "    </tr>\n",
       "    <tr>\n",
       "      <th>81</th>\n",
       "      <td>[body, eligible, preapproved, axis, bank, neo,...</td>\n",
       "      <td>thread_id: 1401</td>\n",
       "      <td>date: 1509700065511</td>\n",
       "      <td>date_sent: 1509700063000</td>\n",
       "      <td>address: DM098067</td>\n",
       "      <td>113</td>\n",
       "      <td>finance</td>\n",
       "    </tr>\n",
       "    <tr>\n",
       "      <th>83</th>\n",
       "      <td>[body, dear, customer, 2, days, invest, sovere...</td>\n",
       "      <td>thread_id: 2153</td>\n",
       "      <td>date: 1509699838775</td>\n",
       "      <td>date_sent: 1509698906000</td>\n",
       "      <td>address: DM014534</td>\n",
       "      <td>166</td>\n",
       "      <td>finance</td>\n",
       "    </tr>\n",
       "    <tr>\n",
       "      <th>85</th>\n",
       "      <td>[body, buy, shops, preleased, trusted, brand, ...</td>\n",
       "      <td>thread_id: 827</td>\n",
       "      <td>date: 1509690435814</td>\n",
       "      <td>date_sent: 1509690433000</td>\n",
       "      <td>address: DM021021</td>\n",
       "      <td>155</td>\n",
       "      <td>finance</td>\n",
       "    </tr>\n",
       "  </tbody>\n",
       "</table>\n",
       "</div>"
      ],
      "text/plain": [
       "                                                 Body         Thread_Id  \\\n",
       "75  [body, earn, rs25000, annually, also, get, lum...   thread_id: 1790   \n",
       "79  [body, dear, customer, invest, axis, multicap,...   thread_id: 2145   \n",
       "81  [body, eligible, preapproved, axis, bank, neo,...   thread_id: 1401   \n",
       "83  [body, dear, customer, 2, days, invest, sovere...   thread_id: 2153   \n",
       "85  [body, buy, shops, preleased, trusted, brand, ...    thread_id: 827   \n",
       "\n",
       "                    Date                  Date_Sent             Address  \\\n",
       "75   date: 1509773729218   date_sent: 1509773718000   address: DZEISSMS   \n",
       "79   date: 1509703786413   date_sent: 1509703785000   address: AD200001   \n",
       "81   date: 1509700065511   date_sent: 1509700063000   address: DM098067   \n",
       "83   date: 1509699838775   date_sent: 1509698906000   address: DM014534   \n",
       "85   date: 1509690435814   date_sent: 1509690433000   address: DM021021   \n",
       "\n",
       "    Length    Label  \n",
       "75     164  finance  \n",
       "79     164  finance  \n",
       "81     113  finance  \n",
       "83     166  finance  \n",
       "85     155  finance  "
      ]
     },
     "execution_count": 136,
     "metadata": {},
     "output_type": "execute_result"
    }
   ],
   "source": [
    "train.head()"
   ]
  },
  {
   "cell_type": "code",
   "execution_count": 137,
   "metadata": {},
   "outputs": [],
   "source": [
    "train.drop(['Thread_Id','Date','Date_Sent','Address'],axis=1,inplace=True)"
   ]
  },
  {
   "cell_type": "code",
   "execution_count": 138,
   "metadata": {},
   "outputs": [
    {
     "data": {
      "text/html": [
       "<div>\n",
       "<style scoped>\n",
       "    .dataframe tbody tr th:only-of-type {\n",
       "        vertical-align: middle;\n",
       "    }\n",
       "\n",
       "    .dataframe tbody tr th {\n",
       "        vertical-align: top;\n",
       "    }\n",
       "\n",
       "    .dataframe thead th {\n",
       "        text-align: right;\n",
       "    }\n",
       "</style>\n",
       "<table border=\"1\" class=\"dataframe\">\n",
       "  <thead>\n",
       "    <tr style=\"text-align: right;\">\n",
       "      <th></th>\n",
       "      <th>Body</th>\n",
       "      <th>Length</th>\n",
       "      <th>Label</th>\n",
       "    </tr>\n",
       "  </thead>\n",
       "  <tbody>\n",
       "    <tr>\n",
       "      <th>75</th>\n",
       "      <td>[body, earn, rs25000, annually, also, get, lum...</td>\n",
       "      <td>164</td>\n",
       "      <td>finance</td>\n",
       "    </tr>\n",
       "    <tr>\n",
       "      <th>79</th>\n",
       "      <td>[body, dear, customer, invest, axis, multicap,...</td>\n",
       "      <td>164</td>\n",
       "      <td>finance</td>\n",
       "    </tr>\n",
       "    <tr>\n",
       "      <th>81</th>\n",
       "      <td>[body, eligible, preapproved, axis, bank, neo,...</td>\n",
       "      <td>113</td>\n",
       "      <td>finance</td>\n",
       "    </tr>\n",
       "    <tr>\n",
       "      <th>83</th>\n",
       "      <td>[body, dear, customer, 2, days, invest, sovere...</td>\n",
       "      <td>166</td>\n",
       "      <td>finance</td>\n",
       "    </tr>\n",
       "    <tr>\n",
       "      <th>85</th>\n",
       "      <td>[body, buy, shops, preleased, trusted, brand, ...</td>\n",
       "      <td>155</td>\n",
       "      <td>finance</td>\n",
       "    </tr>\n",
       "  </tbody>\n",
       "</table>\n",
       "</div>"
      ],
      "text/plain": [
       "                                                 Body  Length    Label\n",
       "75  [body, earn, rs25000, annually, also, get, lum...     164  finance\n",
       "79  [body, dear, customer, invest, axis, multicap,...     164  finance\n",
       "81  [body, eligible, preapproved, axis, bank, neo,...     113  finance\n",
       "83  [body, dear, customer, 2, days, invest, sovere...     166  finance\n",
       "85  [body, buy, shops, preleased, trusted, brand, ...     155  finance"
      ]
     },
     "execution_count": 138,
     "metadata": {},
     "output_type": "execute_result"
    }
   ],
   "source": [
    "train.head()"
   ]
  },
  {
   "cell_type": "code",
   "execution_count": 139,
   "metadata": {},
   "outputs": [],
   "source": [
    "from sklearn.utils import shuffle\n",
    "train = shuffle(train)"
   ]
  },
  {
   "cell_type": "code",
   "execution_count": 140,
   "metadata": {},
   "outputs": [
    {
     "data": {
      "text/html": [
       "<div>\n",
       "<style scoped>\n",
       "    .dataframe tbody tr th:only-of-type {\n",
       "        vertical-align: middle;\n",
       "    }\n",
       "\n",
       "    .dataframe tbody tr th {\n",
       "        vertical-align: top;\n",
       "    }\n",
       "\n",
       "    .dataframe thead th {\n",
       "        text-align: right;\n",
       "    }\n",
       "</style>\n",
       "<table border=\"1\" class=\"dataframe\">\n",
       "  <thead>\n",
       "    <tr style=\"text-align: right;\">\n",
       "      <th></th>\n",
       "      <th>Body</th>\n",
       "      <th>Length</th>\n",
       "      <th>Label</th>\n",
       "    </tr>\n",
       "  </thead>\n",
       "  <tbody>\n",
       "    <tr>\n",
       "      <th>3661</th>\n",
       "      <td>[bodyphone, allow, ni, h, 😭and, pic, kapde, ni...</td>\n",
       "      <td>50</td>\n",
       "      <td>other</td>\n",
       "    </tr>\n",
       "    <tr>\n",
       "      <th>6984</th>\n",
       "      <td>[bodyyour, new, yr, resolution, solution, loos...</td>\n",
       "      <td>168</td>\n",
       "      <td>health</td>\n",
       "    </tr>\n",
       "    <tr>\n",
       "      <th>1781</th>\n",
       "      <td>[body, ebill, passwordlower, case, mzey, secur...</td>\n",
       "      <td>249</td>\n",
       "      <td>other</td>\n",
       "    </tr>\n",
       "    <tr>\n",
       "      <th>3176</th>\n",
       "      <td>[bodycheck, whatsapp, send, ss]</td>\n",
       "      <td>37</td>\n",
       "      <td>other</td>\n",
       "    </tr>\n",
       "    <tr>\n",
       "      <th>5605</th>\n",
       "      <td>[bodyab, tum, dikhate, hi, nahi, ho, kaise, de...</td>\n",
       "      <td>54</td>\n",
       "      <td>other</td>\n",
       "    </tr>\n",
       "  </tbody>\n",
       "</table>\n",
       "</div>"
      ],
      "text/plain": [
       "                                                   Body  Length   Label\n",
       "3661  [bodyphone, allow, ni, h, 😭and, pic, kapde, ni...      50   other\n",
       "6984  [bodyyour, new, yr, resolution, solution, loos...     168  health\n",
       "1781  [body, ebill, passwordlower, case, mzey, secur...     249   other\n",
       "3176                    [bodycheck, whatsapp, send, ss]      37   other\n",
       "5605  [bodyab, tum, dikhate, hi, nahi, ho, kaise, de...      54   other"
      ]
     },
     "execution_count": 140,
     "metadata": {},
     "output_type": "execute_result"
    }
   ],
   "source": [
    "train.head()"
   ]
  },
  {
   "cell_type": "code",
   "execution_count": 141,
   "metadata": {},
   "outputs": [],
   "source": [
    "Features = train['Label']"
   ]
  },
  {
   "cell_type": "code",
   "execution_count": 142,
   "metadata": {},
   "outputs": [],
   "source": [
    "train.drop('Label',axis=1,inplace=True)"
   ]
  },
  {
   "cell_type": "code",
   "execution_count": 143,
   "metadata": {},
   "outputs": [],
   "source": [
    "from sklearn.feature_extraction.text import CountVectorizer"
   ]
  },
  {
   "cell_type": "code",
   "execution_count": 144,
   "metadata": {},
   "outputs": [],
   "source": [
    "def tostring(cols):\n",
    "    \n",
    "    ch = ''\n",
    "    \n",
    "    for word in cols:\n",
    "        ch += word + ' '\n",
    "    \n",
    "    return ch"
   ]
  },
  {
   "cell_type": "code",
   "execution_count": 145,
   "metadata": {},
   "outputs": [],
   "source": [
    "train['Body'] = train['Body'].apply(tostring)"
   ]
  },
  {
   "cell_type": "code",
   "execution_count": 146,
   "metadata": {},
   "outputs": [],
   "source": [
    "#train.head()"
   ]
  },
  {
   "cell_type": "code",
   "execution_count": 147,
   "metadata": {},
   "outputs": [
    {
     "name": "stdout",
     "output_type": "stream",
     "text": [
      "0113\n"
     ]
    }
   ],
   "source": [
    "bow_transformer = CountVectorizer().fit(train['Body'])\n",
    "Bow4=bow_transformer.transform(train['Body'])\n",
    "print(bow_transformer.get_feature_names()[22])"
   ]
  },
  {
   "cell_type": "code",
   "execution_count": 148,
   "metadata": {},
   "outputs": [],
   "source": [
    "from sklearn.feature_extraction.text import TfidfTransformer\n",
    "tfidf_transformer=TfidfTransformer().fit(Bow4)\n",
    "Message=tfidf_transformer.transform(Bow4)"
   ]
  },
  {
   "cell_type": "code",
   "execution_count": 149,
   "metadata": {},
   "outputs": [],
   "source": [
    "from sklearn.naive_bayes import MultinomialNB\n",
    "Fitter=MultinomialNB().fit(Bow4,Features)"
   ]
  },
  {
   "cell_type": "code",
   "execution_count": 150,
   "metadata": {},
   "outputs": [],
   "source": [
    "all_predict=Fitter.predict(Bow4)"
   ]
  },
  {
   "cell_type": "code",
   "execution_count": 151,
   "metadata": {},
   "outputs": [],
   "source": [
    "#all_predict"
   ]
  },
  {
   "cell_type": "code",
   "execution_count": 152,
   "metadata": {},
   "outputs": [
    {
     "name": "stdout",
     "output_type": "stream",
     "text": [
      "             precision    recall  f1-score   support\n",
      "\n",
      "  education       0.88      0.96      0.92       368\n",
      "    fashion       0.85      0.96      0.90       822\n",
      "    finance       0.99      0.78      0.88       172\n",
      "       food       0.98      0.90      0.94       146\n",
      "     health       0.87      0.96      0.91       297\n",
      "      other       0.99      0.96      0.98      3652\n",
      "    telecom       0.95      0.96      0.96      1219\n",
      "\n",
      "avg / total       0.96      0.95      0.95      6676\n",
      "\n"
     ]
    }
   ],
   "source": [
    "from sklearn.metrics import classification_report\n",
    "print(classification_report(Features,all_predict))"
   ]
  },
  {
   "cell_type": "code",
   "execution_count": 153,
   "metadata": {},
   "outputs": [],
   "source": [
    "#filter.predict(['dominos'])"
   ]
  },
  {
   "cell_type": "code",
   "execution_count": 154,
   "metadata": {},
   "outputs": [],
   "source": [
    "from sklearn.model_selection import train_test_split\n",
    "msg_train,msg_test,label_train,label_test=train_test_split(train['Body'],Features,test_size=0.2, random_state=42)"
   ]
  },
  {
   "cell_type": "code",
   "execution_count": 155,
   "metadata": {},
   "outputs": [],
   "source": [
    "#msg_train"
   ]
  },
  {
   "cell_type": "code",
   "execution_count": 156,
   "metadata": {},
   "outputs": [],
   "source": [
    "def text_process(mess):\n",
    "    \"\"\"\n",
    "    Takes in a string of text, then performs the following:\n",
    "    1. Remove all punctuation\n",
    "    2. Remove all stopwords\n",
    "    3. Returns a list of the cleaned text\n",
    "    \"\"\"\n",
    "    # Check characters to see if they are in punctuation\n",
    "    nopunc = [char for char in mess if char not in string.punctuation]\n",
    "\n",
    "    # Join the characters again to form the string.\n",
    "    nopunc = ''.join(nopunc)\n",
    "    ff = open('stopwords.txt','r')\n",
    "    ll = ff.read().split()\n",
    "    \n",
    "    # Now just remove any stopwords\n",
    "    return [word for word in nopunc.split() if word.lower() not in ll]"
   ]
  },
  {
   "cell_type": "code",
   "execution_count": 157,
   "metadata": {},
   "outputs": [],
   "source": [
    "from sklearn.pipeline import Pipeline\n",
    "pipeline = Pipeline([\n",
    "    ('bow', CountVectorizer(analyzer=text_process)),  # strings to token integer counts\n",
    "    \n",
    "    ('tfidf', TfidfTransformer()),  # integer counts to weighted TF-IDF scores\n",
    "    ('classifier', MultinomialNB()),  # train on TF-IDF vectors w/ Naive Bayes classifier\n",
    "])"
   ]
  },
  {
   "cell_type": "code",
   "execution_count": 158,
   "metadata": {},
   "outputs": [
    {
     "data": {
      "text/plain": [
       "Pipeline(memory=None,\n",
       "     steps=[('bow', CountVectorizer(analyzer=<function text_process at 0x000002219F5C7AE8>,\n",
       "        binary=False, decode_error='strict', dtype=<class 'numpy.int64'>,\n",
       "        encoding='utf-8', input='content', lowercase=True, max_df=1.0,\n",
       "        max_features=None, min_df=1, ngram_range=(1, 1), preprocesso...None, vocabulary=None)), ('classifier', MultinomialNB(alpha=1.0, class_prior=None, fit_prior=True))])"
      ]
     },
     "execution_count": 158,
     "metadata": {},
     "output_type": "execute_result"
    }
   ],
   "source": [
    "pipeline.fit(msg_train,label_train)"
   ]
  },
  {
   "cell_type": "code",
   "execution_count": 159,
   "metadata": {},
   "outputs": [],
   "source": [
    "predictions=pipeline.predict(msg_test)"
   ]
  },
  {
   "cell_type": "code",
   "execution_count": 160,
   "metadata": {},
   "outputs": [
    {
     "name": "stdout",
     "output_type": "stream",
     "text": [
      "             precision    recall  f1-score   support\n",
      "\n",
      "  education       0.65      0.77      0.71        71\n",
      "    fashion       0.77      0.93      0.84       190\n",
      "    finance       1.00      0.40      0.58        42\n",
      "       food       0.90      0.84      0.87        31\n",
      "     health       0.78      0.84      0.81        62\n",
      "      other       0.98      0.91      0.94       716\n",
      "    telecom       0.83      0.89      0.86       224\n",
      "\n",
      "avg / total       0.90      0.88      0.88      1336\n",
      "\n"
     ]
    }
   ],
   "source": [
    "print(classification_report(label_test,predictions))"
   ]
  },
  {
   "cell_type": "code",
   "execution_count": 161,
   "metadata": {},
   "outputs": [
    {
     "data": {
      "text/plain": [
       "array(['other'],\n",
       "      dtype='<U9')"
      ]
     },
     "execution_count": 161,
     "metadata": {},
     "output_type": "execute_result"
    }
   ],
   "source": [
    "pipeline.predict([\"Uber : You've got 50% off your 10 next 10 non-uberPOOL rides in Delhi NCR until 20-11-2017\"])"
   ]
  },
  {
   "cell_type": "code",
   "execution_count": 162,
   "metadata": {},
   "outputs": [
    {
     "data": {
      "text/plain": [
       "array(['other'],\n",
       "      dtype='<U9')"
      ]
     },
     "execution_count": 162,
     "metadata": {},
     "output_type": "execute_result"
    }
   ],
   "source": [
    "pipeline.predict(['medicine'])"
   ]
  },
  {
   "cell_type": "code",
   "execution_count": 163,
   "metadata": {},
   "outputs": [],
   "source": [
    "from sklearn.externals import joblib"
   ]
  },
  {
   "cell_type": "code",
   "execution_count": 164,
   "metadata": {},
   "outputs": [
    {
     "data": {
      "text/plain": [
       "['FinalFile.pkl']"
      ]
     },
     "execution_count": 164,
     "metadata": {},
     "output_type": "execute_result"
    }
   ],
   "source": [
    "joblib.dump(pipeline,'FinalFile.pkl')"
   ]
  },
  {
   "cell_type": "code",
   "execution_count": 165,
   "metadata": {},
   "outputs": [],
   "source": [
    "Classifier=joblib.load('FinalFile.pkl')"
   ]
  },
  {
   "cell_type": "code",
   "execution_count": 166,
   "metadata": {},
   "outputs": [
    {
     "data": {
      "text/plain": [
       "array(['other'],\n",
       "      dtype='<U9')"
      ]
     },
     "execution_count": 166,
     "metadata": {},
     "output_type": "execute_result"
    }
   ],
   "source": [
    "Classifier.predict(['Hello there, you have unlocked 50 rides'])"
   ]
  },
  {
   "cell_type": "code",
   "execution_count": null,
   "metadata": {
    "collapsed": true
   },
   "outputs": [],
   "source": []
  },
  {
   "cell_type": "code",
   "execution_count": null,
   "metadata": {
    "collapsed": true
   },
   "outputs": [],
   "source": []
  },
  {
   "cell_type": "code",
   "execution_count": null,
   "metadata": {
    "collapsed": true
   },
   "outputs": [],
   "source": []
  }
 ],
 "metadata": {
  "kernelspec": {
   "display_name": "Python 3",
   "language": "python",
   "name": "python3"
  },
  "language_info": {
   "codemirror_mode": {
    "name": "ipython",
    "version": 3
   },
   "file_extension": ".py",
   "mimetype": "text/x-python",
   "name": "python",
   "nbconvert_exporter": "python",
   "pygments_lexer": "ipython3",
   "version": "3.6.4"
  }
 },
 "nbformat": 4,
 "nbformat_minor": 2
}
